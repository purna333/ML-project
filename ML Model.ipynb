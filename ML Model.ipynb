{
 "cells": [
  {
   "cell_type": "markdown",
   "id": "e3df63c5",
   "metadata": {},
   "source": [
    "# HEART FAILURE PREDICTIONS\n"
   ]
  },
  {
   "cell_type": "markdown",
   "id": "81219d67",
   "metadata": {},
   "source": [
    "In This dataset we are going to create a model on predicting the heart failure."
   ]
  },
  {
   "cell_type": "markdown",
   "id": "fb542980",
   "metadata": {},
   "source": [
    " Importing libraries"
   ]
  },
  {
   "cell_type": "code",
   "execution_count": 1,
   "id": "49d7d682",
   "metadata": {},
   "outputs": [],
   "source": [
    "import numpy as np\n",
    "import pandas as pd\n",
    "import seaborn as sns\n",
    "import matplotlib.pyplot as plt\n",
    "import warnings\n",
    "warnings.simplefilter(\"ignore\")\n",
    "from sklearn.linear_model import LogisticRegression\n",
    "from sklearn import metrics\n",
    "from sklearn.metrics import confusion_matrix, classification_report\n",
    "from sklearn.model_selection import cross_val_score\n",
    "\n",
    "from sklearn.ensemble import RandomForestClassifier\n",
    "from sklearn.tree import DecisionTreeClassifier\n",
    "from sklearn.model_selection import train_test_split"
   ]
  },
  {
   "cell_type": "code",
   "execution_count": 2,
   "id": "7d9d521e",
   "metadata": {},
   "outputs": [
    {
     "name": "stdout",
     "output_type": "stream",
     "text": [
      "<class 'pandas.core.frame.DataFrame'>\n",
      "RangeIndex: 299 entries, 0 to 298\n",
      "Data columns (total 13 columns):\n",
      " #   Column                    Non-Null Count  Dtype  \n",
      "---  ------                    --------------  -----  \n",
      " 0   age                       299 non-null    float64\n",
      " 1   anaemia                   299 non-null    int64  \n",
      " 2   creatinine_phosphokinase  299 non-null    int64  \n",
      " 3   diabetes                  299 non-null    int64  \n",
      " 4   ejection_fraction         299 non-null    int64  \n",
      " 5   high_blood_pressure       299 non-null    int64  \n",
      " 6   platelets                 299 non-null    float64\n",
      " 7   serum_creatinine          299 non-null    float64\n",
      " 8   serum_sodium              299 non-null    int64  \n",
      " 9   sex                       299 non-null    int64  \n",
      " 10  smoking                   299 non-null    int64  \n",
      " 11  time                      299 non-null    int64  \n",
      " 12  DEATH_EVENT               299 non-null    int64  \n",
      "dtypes: float64(3), int64(10)\n",
      "memory usage: 30.5 KB\n"
     ]
    }
   ],
   "source": [
    "heart=pd.read_csv(\"heart_failure.csv\")\n",
    "heart.info()"
   ]
  },
  {
   "cell_type": "code",
   "execution_count": 3,
   "id": "cd9ef414",
   "metadata": {
    "scrolled": true
   },
   "outputs": [
    {
     "data": {
      "text/html": [
       "<div>\n",
       "<style scoped>\n",
       "    .dataframe tbody tr th:only-of-type {\n",
       "        vertical-align: middle;\n",
       "    }\n",
       "\n",
       "    .dataframe tbody tr th {\n",
       "        vertical-align: top;\n",
       "    }\n",
       "\n",
       "    .dataframe thead th {\n",
       "        text-align: right;\n",
       "    }\n",
       "</style>\n",
       "<table border=\"1\" class=\"dataframe\">\n",
       "  <thead>\n",
       "    <tr style=\"text-align: right;\">\n",
       "      <th></th>\n",
       "      <th>age</th>\n",
       "      <th>anaemia</th>\n",
       "      <th>creatinine_phosphokinase</th>\n",
       "      <th>diabetes</th>\n",
       "      <th>ejection_fraction</th>\n",
       "      <th>high_blood_pressure</th>\n",
       "      <th>platelets</th>\n",
       "      <th>serum_creatinine</th>\n",
       "      <th>serum_sodium</th>\n",
       "      <th>sex</th>\n",
       "      <th>smoking</th>\n",
       "      <th>time</th>\n",
       "      <th>DEATH_EVENT</th>\n",
       "    </tr>\n",
       "  </thead>\n",
       "  <tbody>\n",
       "    <tr>\n",
       "      <th>count</th>\n",
       "      <td>299.000000</td>\n",
       "      <td>299.000000</td>\n",
       "      <td>299.000000</td>\n",
       "      <td>299.000000</td>\n",
       "      <td>299.000000</td>\n",
       "      <td>299.000000</td>\n",
       "      <td>299.000000</td>\n",
       "      <td>299.00000</td>\n",
       "      <td>299.000000</td>\n",
       "      <td>299.000000</td>\n",
       "      <td>299.00000</td>\n",
       "      <td>299.000000</td>\n",
       "      <td>299.00000</td>\n",
       "    </tr>\n",
       "    <tr>\n",
       "      <th>mean</th>\n",
       "      <td>60.833893</td>\n",
       "      <td>0.431438</td>\n",
       "      <td>581.839465</td>\n",
       "      <td>0.418060</td>\n",
       "      <td>38.083612</td>\n",
       "      <td>0.351171</td>\n",
       "      <td>263358.029264</td>\n",
       "      <td>1.39388</td>\n",
       "      <td>136.625418</td>\n",
       "      <td>0.648829</td>\n",
       "      <td>0.32107</td>\n",
       "      <td>130.260870</td>\n",
       "      <td>0.32107</td>\n",
       "    </tr>\n",
       "    <tr>\n",
       "      <th>std</th>\n",
       "      <td>11.894809</td>\n",
       "      <td>0.496107</td>\n",
       "      <td>970.287881</td>\n",
       "      <td>0.494067</td>\n",
       "      <td>11.834841</td>\n",
       "      <td>0.478136</td>\n",
       "      <td>97804.236869</td>\n",
       "      <td>1.03451</td>\n",
       "      <td>4.412477</td>\n",
       "      <td>0.478136</td>\n",
       "      <td>0.46767</td>\n",
       "      <td>77.614208</td>\n",
       "      <td>0.46767</td>\n",
       "    </tr>\n",
       "    <tr>\n",
       "      <th>min</th>\n",
       "      <td>40.000000</td>\n",
       "      <td>0.000000</td>\n",
       "      <td>23.000000</td>\n",
       "      <td>0.000000</td>\n",
       "      <td>14.000000</td>\n",
       "      <td>0.000000</td>\n",
       "      <td>25100.000000</td>\n",
       "      <td>0.50000</td>\n",
       "      <td>113.000000</td>\n",
       "      <td>0.000000</td>\n",
       "      <td>0.00000</td>\n",
       "      <td>4.000000</td>\n",
       "      <td>0.00000</td>\n",
       "    </tr>\n",
       "    <tr>\n",
       "      <th>25%</th>\n",
       "      <td>51.000000</td>\n",
       "      <td>0.000000</td>\n",
       "      <td>116.500000</td>\n",
       "      <td>0.000000</td>\n",
       "      <td>30.000000</td>\n",
       "      <td>0.000000</td>\n",
       "      <td>212500.000000</td>\n",
       "      <td>0.90000</td>\n",
       "      <td>134.000000</td>\n",
       "      <td>0.000000</td>\n",
       "      <td>0.00000</td>\n",
       "      <td>73.000000</td>\n",
       "      <td>0.00000</td>\n",
       "    </tr>\n",
       "    <tr>\n",
       "      <th>50%</th>\n",
       "      <td>60.000000</td>\n",
       "      <td>0.000000</td>\n",
       "      <td>250.000000</td>\n",
       "      <td>0.000000</td>\n",
       "      <td>38.000000</td>\n",
       "      <td>0.000000</td>\n",
       "      <td>262000.000000</td>\n",
       "      <td>1.10000</td>\n",
       "      <td>137.000000</td>\n",
       "      <td>1.000000</td>\n",
       "      <td>0.00000</td>\n",
       "      <td>115.000000</td>\n",
       "      <td>0.00000</td>\n",
       "    </tr>\n",
       "    <tr>\n",
       "      <th>75%</th>\n",
       "      <td>70.000000</td>\n",
       "      <td>1.000000</td>\n",
       "      <td>582.000000</td>\n",
       "      <td>1.000000</td>\n",
       "      <td>45.000000</td>\n",
       "      <td>1.000000</td>\n",
       "      <td>303500.000000</td>\n",
       "      <td>1.40000</td>\n",
       "      <td>140.000000</td>\n",
       "      <td>1.000000</td>\n",
       "      <td>1.00000</td>\n",
       "      <td>203.000000</td>\n",
       "      <td>1.00000</td>\n",
       "    </tr>\n",
       "    <tr>\n",
       "      <th>max</th>\n",
       "      <td>95.000000</td>\n",
       "      <td>1.000000</td>\n",
       "      <td>7861.000000</td>\n",
       "      <td>1.000000</td>\n",
       "      <td>80.000000</td>\n",
       "      <td>1.000000</td>\n",
       "      <td>850000.000000</td>\n",
       "      <td>9.40000</td>\n",
       "      <td>148.000000</td>\n",
       "      <td>1.000000</td>\n",
       "      <td>1.00000</td>\n",
       "      <td>285.000000</td>\n",
       "      <td>1.00000</td>\n",
       "    </tr>\n",
       "  </tbody>\n",
       "</table>\n",
       "</div>"
      ],
      "text/plain": [
       "              age     anaemia  creatinine_phosphokinase    diabetes  \\\n",
       "count  299.000000  299.000000                299.000000  299.000000   \n",
       "mean    60.833893    0.431438                581.839465    0.418060   \n",
       "std     11.894809    0.496107                970.287881    0.494067   \n",
       "min     40.000000    0.000000                 23.000000    0.000000   \n",
       "25%     51.000000    0.000000                116.500000    0.000000   \n",
       "50%     60.000000    0.000000                250.000000    0.000000   \n",
       "75%     70.000000    1.000000                582.000000    1.000000   \n",
       "max     95.000000    1.000000               7861.000000    1.000000   \n",
       "\n",
       "       ejection_fraction  high_blood_pressure      platelets  \\\n",
       "count         299.000000           299.000000     299.000000   \n",
       "mean           38.083612             0.351171  263358.029264   \n",
       "std            11.834841             0.478136   97804.236869   \n",
       "min            14.000000             0.000000   25100.000000   \n",
       "25%            30.000000             0.000000  212500.000000   \n",
       "50%            38.000000             0.000000  262000.000000   \n",
       "75%            45.000000             1.000000  303500.000000   \n",
       "max            80.000000             1.000000  850000.000000   \n",
       "\n",
       "       serum_creatinine  serum_sodium         sex    smoking        time  \\\n",
       "count         299.00000    299.000000  299.000000  299.00000  299.000000   \n",
       "mean            1.39388    136.625418    0.648829    0.32107  130.260870   \n",
       "std             1.03451      4.412477    0.478136    0.46767   77.614208   \n",
       "min             0.50000    113.000000    0.000000    0.00000    4.000000   \n",
       "25%             0.90000    134.000000    0.000000    0.00000   73.000000   \n",
       "50%             1.10000    137.000000    1.000000    0.00000  115.000000   \n",
       "75%             1.40000    140.000000    1.000000    1.00000  203.000000   \n",
       "max             9.40000    148.000000    1.000000    1.00000  285.000000   \n",
       "\n",
       "       DEATH_EVENT  \n",
       "count    299.00000  \n",
       "mean       0.32107  \n",
       "std        0.46767  \n",
       "min        0.00000  \n",
       "25%        0.00000  \n",
       "50%        0.00000  \n",
       "75%        1.00000  \n",
       "max        1.00000  "
      ]
     },
     "execution_count": 3,
     "metadata": {},
     "output_type": "execute_result"
    }
   ],
   "source": [
    "heart.describe()"
   ]
  },
  {
   "cell_type": "code",
   "execution_count": 4,
   "id": "f41907b4",
   "metadata": {
    "scrolled": true
   },
   "outputs": [
    {
     "data": {
      "text/html": [
       "<div>\n",
       "<style scoped>\n",
       "    .dataframe tbody tr th:only-of-type {\n",
       "        vertical-align: middle;\n",
       "    }\n",
       "\n",
       "    .dataframe tbody tr th {\n",
       "        vertical-align: top;\n",
       "    }\n",
       "\n",
       "    .dataframe thead th {\n",
       "        text-align: right;\n",
       "    }\n",
       "</style>\n",
       "<table border=\"1\" class=\"dataframe\">\n",
       "  <thead>\n",
       "    <tr style=\"text-align: right;\">\n",
       "      <th></th>\n",
       "      <th>age</th>\n",
       "      <th>anaemia</th>\n",
       "      <th>creatinine_phosphokinase</th>\n",
       "      <th>diabetes</th>\n",
       "      <th>ejection_fraction</th>\n",
       "      <th>high_blood_pressure</th>\n",
       "      <th>platelets</th>\n",
       "      <th>serum_creatinine</th>\n",
       "      <th>serum_sodium</th>\n",
       "      <th>sex</th>\n",
       "      <th>smoking</th>\n",
       "      <th>time</th>\n",
       "      <th>DEATH_EVENT</th>\n",
       "    </tr>\n",
       "  </thead>\n",
       "  <tbody>\n",
       "    <tr>\n",
       "      <th>0</th>\n",
       "      <td>75.0</td>\n",
       "      <td>0</td>\n",
       "      <td>582</td>\n",
       "      <td>0</td>\n",
       "      <td>20</td>\n",
       "      <td>1</td>\n",
       "      <td>265000.00</td>\n",
       "      <td>1.9</td>\n",
       "      <td>130</td>\n",
       "      <td>1</td>\n",
       "      <td>0</td>\n",
       "      <td>4</td>\n",
       "      <td>1</td>\n",
       "    </tr>\n",
       "    <tr>\n",
       "      <th>1</th>\n",
       "      <td>55.0</td>\n",
       "      <td>0</td>\n",
       "      <td>7861</td>\n",
       "      <td>0</td>\n",
       "      <td>38</td>\n",
       "      <td>0</td>\n",
       "      <td>263358.03</td>\n",
       "      <td>1.1</td>\n",
       "      <td>136</td>\n",
       "      <td>1</td>\n",
       "      <td>0</td>\n",
       "      <td>6</td>\n",
       "      <td>1</td>\n",
       "    </tr>\n",
       "    <tr>\n",
       "      <th>2</th>\n",
       "      <td>65.0</td>\n",
       "      <td>0</td>\n",
       "      <td>146</td>\n",
       "      <td>0</td>\n",
       "      <td>20</td>\n",
       "      <td>0</td>\n",
       "      <td>162000.00</td>\n",
       "      <td>1.3</td>\n",
       "      <td>129</td>\n",
       "      <td>1</td>\n",
       "      <td>1</td>\n",
       "      <td>7</td>\n",
       "      <td>1</td>\n",
       "    </tr>\n",
       "    <tr>\n",
       "      <th>3</th>\n",
       "      <td>50.0</td>\n",
       "      <td>1</td>\n",
       "      <td>111</td>\n",
       "      <td>0</td>\n",
       "      <td>20</td>\n",
       "      <td>0</td>\n",
       "      <td>210000.00</td>\n",
       "      <td>1.9</td>\n",
       "      <td>137</td>\n",
       "      <td>1</td>\n",
       "      <td>0</td>\n",
       "      <td>7</td>\n",
       "      <td>1</td>\n",
       "    </tr>\n",
       "    <tr>\n",
       "      <th>4</th>\n",
       "      <td>65.0</td>\n",
       "      <td>1</td>\n",
       "      <td>160</td>\n",
       "      <td>1</td>\n",
       "      <td>20</td>\n",
       "      <td>0</td>\n",
       "      <td>327000.00</td>\n",
       "      <td>2.7</td>\n",
       "      <td>116</td>\n",
       "      <td>0</td>\n",
       "      <td>0</td>\n",
       "      <td>8</td>\n",
       "      <td>1</td>\n",
       "    </tr>\n",
       "  </tbody>\n",
       "</table>\n",
       "</div>"
      ],
      "text/plain": [
       "    age  anaemia  creatinine_phosphokinase  diabetes  ejection_fraction  \\\n",
       "0  75.0        0                       582         0                 20   \n",
       "1  55.0        0                      7861         0                 38   \n",
       "2  65.0        0                       146         0                 20   \n",
       "3  50.0        1                       111         0                 20   \n",
       "4  65.0        1                       160         1                 20   \n",
       "\n",
       "   high_blood_pressure  platelets  serum_creatinine  serum_sodium  sex  \\\n",
       "0                    1  265000.00               1.9           130    1   \n",
       "1                    0  263358.03               1.1           136    1   \n",
       "2                    0  162000.00               1.3           129    1   \n",
       "3                    0  210000.00               1.9           137    1   \n",
       "4                    0  327000.00               2.7           116    0   \n",
       "\n",
       "   smoking  time  DEATH_EVENT  \n",
       "0        0     4            1  \n",
       "1        0     6            1  \n",
       "2        1     7            1  \n",
       "3        0     7            1  \n",
       "4        0     8            1  "
      ]
     },
     "execution_count": 4,
     "metadata": {},
     "output_type": "execute_result"
    }
   ],
   "source": [
    "heart.head(5)"
   ]
  },
  {
   "cell_type": "markdown",
   "id": "e43c44a8",
   "metadata": {},
   "source": [
    "Sex - Gender of patient Male = 1, Female =0\n",
    "Age - Age of patient\n",
    "Diabetes - 0 = No, 1 = Yes\n",
    "Anaemia - 0 = No, 1 = Yes\n",
    "High_blood_pressure - 0 = No, 1 = Yes\n",
    "Smoking - 0 = No, 1 = Yes\n",
    "DEATH_EVENT - 0 = No, 1 = Yes"
   ]
  },
  {
   "cell_type": "markdown",
   "id": "5103e36a",
   "metadata": {},
   "source": [
    "Now we are going to finding the null values in the data set"
   ]
  },
  {
   "cell_type": "code",
   "execution_count": 5,
   "id": "5515be68",
   "metadata": {
    "scrolled": true
   },
   "outputs": [
    {
     "data": {
      "text/plain": [
       "age                         0\n",
       "anaemia                     0\n",
       "creatinine_phosphokinase    0\n",
       "diabetes                    0\n",
       "ejection_fraction           0\n",
       "high_blood_pressure         0\n",
       "platelets                   0\n",
       "serum_creatinine            0\n",
       "serum_sodium                0\n",
       "sex                         0\n",
       "smoking                     0\n",
       "time                        0\n",
       "DEATH_EVENT                 0\n",
       "dtype: int64"
      ]
     },
     "execution_count": 5,
     "metadata": {},
     "output_type": "execute_result"
    }
   ],
   "source": [
    "heart.isnull().sum()"
   ]
  },
  {
   "cell_type": "code",
   "execution_count": 6,
   "id": "755989d2",
   "metadata": {},
   "outputs": [
    {
     "data": {
      "text/plain": [
       "<AxesSubplot:>"
      ]
     },
     "execution_count": 6,
     "metadata": {},
     "output_type": "execute_result"
    },
    {
     "data": {
      "image/png": "[encoded data removed]",
      "text/plain": [
       "<Figure size 432x288 with 2 Axes>"
      ]
     },
     "metadata": {
      "needs_background": "light"
     },
     "output_type": "display_data"
    }
   ],
   "source": [
    "sns.heatmap(heart.isnull(),cmap=\"Greens\")"
   ]
  },
  {
   "cell_type": "markdown",
   "id": "945946ef",
   "metadata": {},
   "source": [
    "we notice that there is no null in the dataset and no categorial values"
   ]
  },
  {
   "cell_type": "markdown",
   "id": "39ea95bf",
   "metadata": {},
   "source": [
    "Now we use the visualization techniques to visualize our data and further fitting into models"
   ]
  },
  {
   "cell_type": "code",
   "execution_count": 7,
   "id": "a39eb2ac",
   "metadata": {},
   "outputs": [
    {
     "name": "stdout",
     "output_type": "stream",
     "text": [
      "HEART FAILED: 96\n",
      "HEART NOT FAILED: 203\n"
     ]
    }
   ],
   "source": [
    "print(\"HEART FAILED:\",heart.DEATH_EVENT.value_counts()[1])\n",
    "print(\"HEART NOT FAILED:\",heart.DEATH_EVENT.value_counts()[0])\n"
   ]
  },
  {
   "cell_type": "code",
   "execution_count": 8,
   "id": "9afaeb32",
   "metadata": {},
   "outputs": [
    {
     "data": {
      "text/plain": [
       "([<matplotlib.patches.Wedge at 0x1e5d61bb4c0>,\n",
       "  <matplotlib.patches.Wedge at 0x1e5d61bbbe0>],\n",
       " [Text(-1.0153497129885487, -0.639581863668813, 'Heart not failed'),\n",
       "  Text(1.0153497728705203, 0.6395817686049088, ' Heart failed')])"
      ]
     },
     "execution_count": 8,
     "metadata": {},
     "output_type": "execute_result"
    },
    {
     "data": {
      "image/png": "[encoded data removed]",
      "text/plain": [
       "<Figure size 432x432 with 1 Axes>"
      ]
     },
     "metadata": {},
     "output_type": "display_data"
    }
   ],
   "source": [
    "fig, ax = plt.subplots(figsize=(6,6))\n",
    "\n",
    "plt.pie(x=heart[\"DEATH_EVENT\"].value_counts(),colors=[\"green\",\"red\"],explode = ( 0.1,0.1),labels=[\"Heart not failed\",\" Heart failed\"],startangle=90,shadow = True)"
   ]
  },
  {
   "cell_type": "code",
   "execution_count": 9,
   "id": "bbd8f553",
   "metadata": {},
   "outputs": [
    {
     "data": {
      "image/png": "[encoded data removed]",
      "text/plain": [
       "<Figure size 432x288 with 1 Axes>"
      ]
     },
     "metadata": {
      "needs_background": "light"
     },
     "output_type": "display_data"
    }
   ],
   "source": [
    "sns.countplot(x='DEATH_EVENT',data=heart,palette='rocket_r')\n",
    "plt.show()"
   ]
  },
  {
   "cell_type": "code",
   "execution_count": 10,
   "id": "6320e120",
   "metadata": {},
   "outputs": [
    {
     "data": {
      "image/png": "[encoded data removed]",
      "text/plain": [
       "<Figure size 432x288 with 1 Axes>"
      ]
     },
     "metadata": {
      "needs_background": "light"
     },
     "output_type": "display_data"
    }
   ],
   "source": [
    "sns.countplot(x='DEATH_EVENT',hue=\"sex\",data=heart,palette='viridis')\n",
    "plt.show()"
   ]
  },
  {
   "cell_type": "code",
   "execution_count": 11,
   "id": "ff1c3bbf",
   "metadata": {},
   "outputs": [
    {
     "data": {
      "image/png": "[encoded data removed]",
      "text/plain": [
       "<Figure size 432x288 with 1 Axes>"
      ]
     },
     "metadata": {
      "needs_background": "light"
     },
     "output_type": "display_data"
    },
    {
     "data": {
      "image/png": "[encoded data removed]",
      "text/plain": [
       "<Figure size 432x288 with 1 Axes>"
      ]
     },
     "metadata": {
      "needs_background": "light"
     },
     "output_type": "display_data"
    },
    {
     "data": {
      "image/png": "[encoded data removed]",
      "text/plain": [
       "<Figure size 432x288 with 1 Axes>"
      ]
     },
     "metadata": {
      "needs_background": "light"
     },
     "output_type": "display_data"
    },
    {
     "data": {
      "image/png": "[encoded data removed]",
      "text/plain": [
       "<Figure size 432x288 with 1 Axes>"
      ]
     },
     "metadata": {
      "needs_background": "light"
     },
     "output_type": "display_data"
    }
   ],
   "source": [
    "sns.countplot(x='smoking',hue=\"DEATH_EVENT\",data=heart,palette=\"inferno_r\")\n",
    "plt.show()\n",
    "sns.countplot(x='diabetes',hue=\"DEATH_EVENT\",data=heart,palette='viridis')\n",
    "plt.show()\n",
    "sns.countplot(x='high_blood_pressure',hue=\"DEATH_EVENT\",data=heart,palette='seismic_r')\n",
    "plt.show()\n",
    "sns.countplot(x='anaemia',hue=\"DEATH_EVENT\",data=heart,palette='gist_rainbow')\n",
    "plt.show()\n",
    "\n"
   ]
  },
  {
   "cell_type": "code",
   "execution_count": 12,
   "id": "ed8837c8",
   "metadata": {},
   "outputs": [
    {
     "data": {
      "image/png": "[encoded data removed]",
      "text/plain": [
       "<Figure size 576x432 with 2 Axes>"
      ]
     },
     "metadata": {
      "needs_background": "light"
     },
     "output_type": "display_data"
    }
   ],
   "source": [
    "fig, ax = plt.subplots(figsize=(8,6))\n",
    "sns.heatmap(heart.corr(), annot=True, fmt='.1g', cmap='viridis');\n"
   ]
  },
  {
   "cell_type": "code",
   "execution_count": 13,
   "id": "be400198",
   "metadata": {},
   "outputs": [
    {
     "data": {
      "text/plain": [
       "<AxesSubplot:xlabel='age', ylabel='Count'>"
      ]
     },
     "execution_count": 13,
     "metadata": {},
     "output_type": "execute_result"
    },
    {
     "data": {
      "image/png": "[encoded data removed]",
      "text/plain": [
       "<Figure size 1008x576 with 1 Axes>"
      ]
     },
     "metadata": {
      "needs_background": "light"
     },
     "output_type": "display_data"
    }
   ],
   "source": [
    "fig, ax = plt.subplots(figsize=(14,8))\n",
    "sns.histplot(x=heart[\"age\"], kde=True, color='red')"
   ]
  },
  {
   "cell_type": "code",
   "execution_count": 14,
   "id": "e814c39c",
   "metadata": {},
   "outputs": [
    {
     "data": {
      "text/plain": [
       "Text(0.5, 1.0, 'Male')"
      ]
     },
     "execution_count": 14,
     "metadata": {},
     "output_type": "execute_result"
    },
    {
     "data": {
      "image/png": "[encoded data removed]",
      "text/plain": [
       "<Figure size 720x288 with 2 Axes>"
      ]
     },
     "metadata": {
      "needs_background": "light"
     },
     "output_type": "display_data"
    }
   ],
   "source": [
    "healthy = 'heart not failed'\n",
    "unhealthy = 'heart failed'\n",
    "fig, axes = plt.subplots(nrows=1, ncols=2,figsize=(10, 4))\n",
    "women = heart[heart['sex']==0]\n",
    "men = heart[heart['sex']==1]\n",
    "ax = sns.distplot(women[women['DEATH_EVENT']==1].age.dropna(), bins=18, label = unhealthy, ax = axes[0], kde =False)\n",
    "ax = sns.distplot(women[women['DEATH_EVENT']==0].age.dropna(), bins=40, label =healthy, ax = axes[0], kde =False)\n",
    "ax.legend()\n",
    "ax.set_title('Female')\n",
    "ax = sns.distplot(men[men['DEATH_EVENT']==1].age.dropna(), bins=18, label = unhealthy, ax = axes[1], kde = False)\n",
    "ax = sns.distplot(men[men['DEATH_EVENT']==0].age.dropna(), bins=40, label =healthy, ax = axes[1], kde = False)\n",
    "ax.legend()\n",
    "ax.set_title('Male')"
   ]
  },
  {
   "cell_type": "markdown",
   "id": "1fff3ed9",
   "metadata": {},
   "source": [
    "NOW BUILD THE MACHINE LEARNING MODLES"
   ]
  },
  {
   "cell_type": "code",
   "execution_count": 15,
   "id": "3395991f",
   "metadata": {},
   "outputs": [
    {
     "data": {
      "text/html": [
       "<div>\n",
       "<style scoped>\n",
       "    .dataframe tbody tr th:only-of-type {\n",
       "        vertical-align: middle;\n",
       "    }\n",
       "\n",
       "    .dataframe tbody tr th {\n",
       "        vertical-align: top;\n",
       "    }\n",
       "\n",
       "    .dataframe thead th {\n",
       "        text-align: right;\n",
       "    }\n",
       "</style>\n",
       "<table border=\"1\" class=\"dataframe\">\n",
       "  <thead>\n",
       "    <tr style=\"text-align: right;\">\n",
       "      <th></th>\n",
       "      <th>age</th>\n",
       "      <th>anaemia</th>\n",
       "      <th>creatinine_phosphokinase</th>\n",
       "      <th>diabetes</th>\n",
       "      <th>ejection_fraction</th>\n",
       "      <th>high_blood_pressure</th>\n",
       "      <th>platelets</th>\n",
       "      <th>serum_creatinine</th>\n",
       "      <th>serum_sodium</th>\n",
       "      <th>sex</th>\n",
       "      <th>smoking</th>\n",
       "      <th>time</th>\n",
       "    </tr>\n",
       "  </thead>\n",
       "  <tbody>\n",
       "    <tr>\n",
       "      <th>0</th>\n",
       "      <td>75.0</td>\n",
       "      <td>0</td>\n",
       "      <td>582</td>\n",
       "      <td>0</td>\n",
       "      <td>20</td>\n",
       "      <td>1</td>\n",
       "      <td>265000.00</td>\n",
       "      <td>1.9</td>\n",
       "      <td>130</td>\n",
       "      <td>1</td>\n",
       "      <td>0</td>\n",
       "      <td>4</td>\n",
       "    </tr>\n",
       "    <tr>\n",
       "      <th>1</th>\n",
       "      <td>55.0</td>\n",
       "      <td>0</td>\n",
       "      <td>7861</td>\n",
       "      <td>0</td>\n",
       "      <td>38</td>\n",
       "      <td>0</td>\n",
       "      <td>263358.03</td>\n",
       "      <td>1.1</td>\n",
       "      <td>136</td>\n",
       "      <td>1</td>\n",
       "      <td>0</td>\n",
       "      <td>6</td>\n",
       "    </tr>\n",
       "    <tr>\n",
       "      <th>2</th>\n",
       "      <td>65.0</td>\n",
       "      <td>0</td>\n",
       "      <td>146</td>\n",
       "      <td>0</td>\n",
       "      <td>20</td>\n",
       "      <td>0</td>\n",
       "      <td>162000.00</td>\n",
       "      <td>1.3</td>\n",
       "      <td>129</td>\n",
       "      <td>1</td>\n",
       "      <td>1</td>\n",
       "      <td>7</td>\n",
       "    </tr>\n",
       "    <tr>\n",
       "      <th>3</th>\n",
       "      <td>50.0</td>\n",
       "      <td>1</td>\n",
       "      <td>111</td>\n",
       "      <td>0</td>\n",
       "      <td>20</td>\n",
       "      <td>0</td>\n",
       "      <td>210000.00</td>\n",
       "      <td>1.9</td>\n",
       "      <td>137</td>\n",
       "      <td>1</td>\n",
       "      <td>0</td>\n",
       "      <td>7</td>\n",
       "    </tr>\n",
       "    <tr>\n",
       "      <th>4</th>\n",
       "      <td>65.0</td>\n",
       "      <td>1</td>\n",
       "      <td>160</td>\n",
       "      <td>1</td>\n",
       "      <td>20</td>\n",
       "      <td>0</td>\n",
       "      <td>327000.00</td>\n",
       "      <td>2.7</td>\n",
       "      <td>116</td>\n",
       "      <td>0</td>\n",
       "      <td>0</td>\n",
       "      <td>8</td>\n",
       "    </tr>\n",
       "  </tbody>\n",
       "</table>\n",
       "</div>"
      ],
      "text/plain": [
       "    age  anaemia  creatinine_phosphokinase  diabetes  ejection_fraction  \\\n",
       "0  75.0        0                       582         0                 20   \n",
       "1  55.0        0                      7861         0                 38   \n",
       "2  65.0        0                       146         0                 20   \n",
       "3  50.0        1                       111         0                 20   \n",
       "4  65.0        1                       160         1                 20   \n",
       "\n",
       "   high_blood_pressure  platelets  serum_creatinine  serum_sodium  sex  \\\n",
       "0                    1  265000.00               1.9           130    1   \n",
       "1                    0  263358.03               1.1           136    1   \n",
       "2                    0  162000.00               1.3           129    1   \n",
       "3                    0  210000.00               1.9           137    1   \n",
       "4                    0  327000.00               2.7           116    0   \n",
       "\n",
       "   smoking  time  \n",
       "0        0     4  \n",
       "1        0     6  \n",
       "2        1     7  \n",
       "3        0     7  \n",
       "4        0     8  "
      ]
     },
     "execution_count": 15,
     "metadata": {},
     "output_type": "execute_result"
    }
   ],
   "source": [
    "X = heart.drop(\"DEATH_EVENT\", axis=1)\n",
    "X.head()\n"
   ]
  },
  {
   "cell_type": "code",
   "execution_count": 16,
   "id": "f64f0bfd",
   "metadata": {
    "scrolled": true
   },
   "outputs": [
    {
     "data": {
      "text/plain": [
       "0    1\n",
       "1    1\n",
       "2    1\n",
       "3    1\n",
       "4    1\n",
       "Name: DEATH_EVENT, dtype: int64"
      ]
     },
     "execution_count": 16,
     "metadata": {},
     "output_type": "execute_result"
    }
   ],
   "source": [
    "Y = heart[\"DEATH_EVENT\"]\n",
    "Y.head()"
   ]
  },
  {
   "cell_type": "markdown",
   "id": "7ec31854",
   "metadata": {},
   "source": [
    "Spliting the data"
   ]
  },
  {
   "cell_type": "code",
   "execution_count": 17,
   "id": "cd8ad773",
   "metadata": {},
   "outputs": [],
   "source": [
    "X_train, X_test, y_train, y_test = train_test_split(X, Y,train_size=0.8,test_size=0.2, random_state=1)"
   ]
  },
  {
   "cell_type": "code",
   "execution_count": 18,
   "id": "1c60d68d",
   "metadata": {},
   "outputs": [
    {
     "name": "stdout",
     "output_type": "stream",
     "text": [
      "x_train=       age  anaemia  creatinine_phosphokinase  diabetes  ejection_fraction  \\\n",
      "161  45.0        1                       130         0                 35   \n",
      "260  55.0        0                        66         0                 40   \n",
      "218  68.0        1                      1021         1                 35   \n",
      "123  60.0        1                       582         0                 30   \n",
      "39   60.0        0                       235         1                 38   \n",
      "..    ...      ...                       ...       ...                ...   \n",
      "203  60.0        0                        59         0                 25   \n",
      "255  52.0        1                       191         1                 30   \n",
      "72   85.0        0                      5882         0                 35   \n",
      "235  77.0        1                       109         0                 50   \n",
      "37   82.0        1                       855         1                 50   \n",
      "\n",
      "     high_blood_pressure  platelets  serum_creatinine  serum_sodium  sex  \\\n",
      "161                    0   174000.0               0.8           139    1   \n",
      "260                    0   203000.0               1.0           138    1   \n",
      "218                    0   271000.0               1.1           134    1   \n",
      "123                    1   127000.0               0.9           145    0   \n",
      "39                     0   329000.0               3.0           142    0   \n",
      "..                   ...        ...               ...           ...  ...   \n",
      "203                    1   212000.0               3.5           136    1   \n",
      "255                    1   334000.0               1.0           142    1   \n",
      "72                     0   243000.0               1.0           132    1   \n",
      "235                    1   406000.0               1.1           137    1   \n",
      "37                     1   321000.0               1.0           145    0   \n",
      "\n",
      "     smoking  time  \n",
      "161        1   121  \n",
      "260        0   233  \n",
      "218        0   197  \n",
      "123        0    95  \n",
      "39         0    30  \n",
      "..       ...   ...  \n",
      "203        1   187  \n",
      "255        1   216  \n",
      "72         1    72  \n",
      "235        0   209  \n",
      "37         0    30  \n",
      "\n",
      "[239 rows x 12 columns]\n",
      "y_train= 161    0\n",
      "260    0\n",
      "218    0\n",
      "123    0\n",
      "39     1\n",
      "      ..\n",
      "203    0\n",
      "255    0\n",
      "72     1\n",
      "235    0\n",
      "37     1\n",
      "Name: DEATH_EVENT, Length: 239, dtype: int64\n",
      "x_test=         age  anaemia  creatinine_phosphokinase  diabetes  ejection_fraction  \\\n",
      "173  50.000        1                       115         0                 20   \n",
      "287  45.000        0                       582         1                 55   \n",
      "51   53.000        1                        91         0                 20   \n",
      "146  52.000        0                       132         0                 30   \n",
      "214  65.000        1                       135         0                 35   \n",
      "197  65.000        0                       167         0                 30   \n",
      "274  60.000        1                       257         1                 30   \n",
      "62   55.000        0                       109         0                 35   \n",
      "27   70.000        0                       122         1                 45   \n",
      "201  45.000        0                       308         1                 60   \n",
      "112  50.000        0                       369         1                 25   \n",
      "119  86.000        0                       582         0                 38   \n",
      "11   62.000        0                       231         0                 25   \n",
      "244  54.000        0                       582         1                 38   \n",
      "110  85.000        0                       129         0                 60   \n",
      "295  55.000        0                      1820         0                 38   \n",
      "73   65.000        0                       224         1                 50   \n",
      "105  72.000        1                       328         0                 30   \n",
      "265  50.000        1                       298         0                 35   \n",
      "107  45.000        1                      1876         1                 35   \n",
      "188  60.667        1                       151         1                 40   \n",
      "12   45.000        1                       981         0                 30   \n",
      "70   41.000        0                       148         0                 40   \n",
      "18   70.000        1                       125         0                 25   \n",
      "88   44.000        0                        84         1                 40   \n",
      "108  63.000        0                       936         0                 38   \n",
      "298  50.000        0                       196         0                 45   \n",
      "176  69.000        0                      1419         0                 40   \n",
      "120  60.000        1                       737         0                 60   \n",
      "250  50.000        0                      2522         0                 30   \n",
      "85   51.000        0                        78         0                 50   \n",
      "296  45.000        0                      2060         1                 60   \n",
      "132  46.000        0                       719         0                 40   \n",
      "285  55.000        1                       170         1                 40   \n",
      "131  60.000        1                      1082         1                 45   \n",
      "78   75.000        1                       203         1                 38   \n",
      "253  70.000        0                        88         1                 35   \n",
      "138  62.000        0                       281         1                 35   \n",
      "90   70.000        0                        66         1                 45   \n",
      "189  40.000        0                       244         0                 45   \n",
      "4    65.000        1                       160         1                 20   \n",
      "193  73.000        1                       231         1                 30   \n",
      "154  65.000        1                       335         0                 35   \n",
      "247  64.000        0                       143         0                 25   \n",
      "80   70.000        0                        69         0                 40   \n",
      "16   87.000        1                       149         0                 38   \n",
      "168  65.000        0                       582         1                 40   \n",
      "127  58.000        1                       200         1                 60   \n",
      "58   49.000        0                       789         0                 20   \n",
      "185  60.667        1                       104         1                 30   \n",
      "279  55.000        0                        84         1                 38   \n",
      "211  50.000        0                       582         0                 62   \n",
      "174  65.000        0                       198         1                 35   \n",
      "59   72.000        0                       364         1                 20   \n",
      "150  72.000        0                       233         0                 45   \n",
      "212  78.000        0                       224         0                 50   \n",
      "191  64.000        1                        62         0                 60   \n",
      "283  65.000        0                      1688         0                 38   \n",
      "172  70.000        1                       171         0                 60   \n",
      "139  50.000        0                      1548         0                 30   \n",
      "\n",
      "     high_blood_pressure  platelets  serum_creatinine  serum_sodium  sex  \\\n",
      "173                    0  189000.00              0.80           139    1   \n",
      "287                    0  543000.00              1.00           132    0   \n",
      "51                     1  418000.00              1.40           139    0   \n",
      "146                    0  218000.00              0.70           136    1   \n",
      "214                    1  290000.00              0.80           134    1   \n",
      "197                    0  259000.00              0.80           138    0   \n",
      "274                    0  150000.00              1.00           137    1   \n",
      "62                     0  254000.00              1.10           139    1   \n",
      "27                     1  284000.00              1.30           136    1   \n",
      "201                    1  377000.00              1.00           136    1   \n",
      "112                    0  252000.00              1.60           136    1   \n",
      "119                    0  263358.03              1.83           134    0   \n",
      "11                     1  253000.00              0.90           140    1   \n",
      "244                    0  264000.00              1.80           134    1   \n",
      "110                    0  306000.00              1.20           132    1   \n",
      "295                    0  270000.00              1.20           139    0   \n",
      "73                     0  149000.00              1.30           137    1   \n",
      "105                    1  621000.00              1.70           138    0   \n",
      "265                    0  362000.00              0.90           140    1   \n",
      "107                    0  226000.00              0.90           138    1   \n",
      "188                    1  201000.00              1.00           136    0   \n",
      "12                     0  136000.00              1.10           137    1   \n",
      "70                     0  374000.00              0.80           140    1   \n",
      "18                     1  237000.00              1.00           140    0   \n",
      "88                     1  235000.00              0.70           139    1   \n",
      "108                    0  304000.00              1.10           133    1   \n",
      "298                    0  395000.00              1.60           136    1   \n",
      "176                    0  105000.00              1.00           135    1   \n",
      "120                    1  210000.00              1.50           135    1   \n",
      "250                    1  404000.00              0.50           139    0   \n",
      "85                     0  406000.00              0.70           140    1   \n",
      "296                    0  742000.00              0.80           138    0   \n",
      "132                    1  263358.03              1.18           137    0   \n",
      "285                    0  336000.00              1.20           135    1   \n",
      "131                    0  250000.00              6.10           131    1   \n",
      "78                     1  283000.00              0.60           131    1   \n",
      "253                    1  236000.00              1.20           132    0   \n",
      "138                    0  221000.00              1.00           136    0   \n",
      "90                     0  249000.00              0.80           136    1   \n",
      "189                    1  275000.00              0.90           140    0   \n",
      "4                      0  327000.00              2.70           116    0   \n",
      "193                    0  160000.00              1.18           142    1   \n",
      "154                    1  235000.00              0.80           136    0   \n",
      "247                    0  246000.00              2.40           135    1   \n",
      "80                     0  293000.00              1.70           136    0   \n",
      "16                     0  262000.00              0.90           140    1   \n",
      "168                    0  270000.00              1.00           138    0   \n",
      "127                    0  300000.00              0.80           137    0   \n",
      "58                     1  319000.00              1.10           136    1   \n",
      "185                    0  389000.00              1.50           136    1   \n",
      "279                    0  451000.00              1.30           136    0   \n",
      "211                    1  147000.00              0.80           140    1   \n",
      "174                    1  281000.00              0.90           137    1   \n",
      "59                     1  254000.00              1.30           136    1   \n",
      "150                    1  235000.00              2.50           135    0   \n",
      "212                    0  481000.00              1.40           138    1   \n",
      "191                    0  309000.00              1.50           135    0   \n",
      "283                    0  263358.03              1.10           138    1   \n",
      "172                    1  176000.00              1.10           145    1   \n",
      "139                    1  211000.00              0.80           138    1   \n",
      "\n",
      "     smoking  time  \n",
      "173        0   146  \n",
      "287        0   250  \n",
      "51         0    43  \n",
      "146        1   112  \n",
      "214        0   194  \n",
      "197        0   186  \n",
      "274        1   245  \n",
      "62         1    60  \n",
      "27         1    26  \n",
      "201        0   186  \n",
      "112        0    90  \n",
      "119        0    95  \n",
      "11         1    10  \n",
      "244        0   213  \n",
      "110        1    90  \n",
      "295        0   271  \n",
      "73         1    72  \n",
      "105        1    88  \n",
      "265        1   240  \n",
      "107        0    88  \n",
      "188        0   172  \n",
      "12         0    11  \n",
      "70         1    68  \n",
      "18         0    15  \n",
      "88         0    79  \n",
      "108        1    88  \n",
      "298        1   285  \n",
      "176        1   147  \n",
      "120        1    95  \n",
      "250        0   214  \n",
      "85         0    79  \n",
      "296        0   278  \n",
      "132        0   107  \n",
      "285        0   250  \n",
      "131        0   107  \n",
      "78         1    74  \n",
      "253        0   215  \n",
      "138        0   108  \n",
      "90         1    80  \n",
      "189        0   174  \n",
      "4          0     8  \n",
      "193        1   180  \n",
      "154        0   120  \n",
      "247        0   214  \n",
      "80         0    75  \n",
      "16         0    14  \n",
      "168        0   140  \n",
      "127        0   104  \n",
      "58         1    55  \n",
      "185        0   171  \n",
      "279        0   246  \n",
      "211        1   192  \n",
      "174        1   146  \n",
      "59         1    59  \n",
      "150        0   115  \n",
      "212        1   192  \n",
      "191        0   174  \n",
      "283        1   250  \n",
      "172        1   146  \n",
      "139        0   108  \n",
      "y_test= 173    0\n",
      "287    0\n",
      "51     1\n",
      "146    0\n",
      "214    0\n",
      "197    0\n",
      "274    0\n",
      "62     0\n",
      "27     1\n",
      "201    0\n",
      "112    0\n",
      "119    1\n",
      "11     1\n",
      "244    0\n",
      "110    1\n",
      "295    0\n",
      "73     0\n",
      "105    1\n",
      "265    0\n",
      "107    0\n",
      "188    0\n",
      "12     1\n",
      "70     0\n",
      "18     1\n",
      "88     0\n",
      "108    0\n",
      "298    0\n",
      "176    0\n",
      "120    0\n",
      "250    0\n",
      "85     0\n",
      "296    0\n",
      "132    0\n",
      "285    0\n",
      "131    0\n",
      "78     0\n",
      "253    0\n",
      "138    0\n",
      "90     0\n",
      "189    0\n",
      "4      1\n",
      "193    0\n",
      "154    0\n",
      "247    0\n",
      "80     0\n",
      "16     1\n",
      "168    0\n",
      "127    0\n",
      "58     1\n",
      "185    1\n",
      "279    0\n",
      "211    0\n",
      "174    0\n",
      "59     1\n",
      "150    1\n",
      "212    0\n",
      "191    0\n",
      "283    0\n",
      "172    0\n",
      "139    0\n",
      "Name: DEATH_EVENT, dtype: int64\n"
     ]
    }
   ],
   "source": [
    "print(\"x_train=\",X_train)\n",
    "print(\"y_train=\",y_train)\n",
    "print(\"x_test=\",X_test)\n",
    "print(\"y_test=\",y_test)"
   ]
  },
  {
   "cell_type": "code",
   "execution_count": 19,
   "id": "97bb69c3",
   "metadata": {},
   "outputs": [
    {
     "data": {
      "text/plain": [
       "(239, 60, 239, 60)"
      ]
     },
     "execution_count": 19,
     "metadata": {},
     "output_type": "execute_result"
    }
   ],
   "source": [
    "len(X_train), len(X_test),len(y_train), len(y_test)"
   ]
  },
  {
   "cell_type": "markdown",
   "id": "1124a9f1",
   "metadata": {},
   "source": [
    "# Logistic regression\n"
   ]
  },
  {
   "cell_type": "code",
   "execution_count": 20,
   "id": "a78c850b",
   "metadata": {},
   "outputs": [
    {
     "data": {
      "text/plain": [
       "LogisticRegression()"
      ]
     },
     "execution_count": 20,
     "metadata": {},
     "output_type": "execute_result"
    }
   ],
   "source": [
    "logr = LogisticRegression()\n",
    "logr.fit(X_train, y_train)"
   ]
  },
  {
   "cell_type": "code",
   "execution_count": 21,
   "id": "0339c512",
   "metadata": {},
   "outputs": [],
   "source": [
    "Y_pred = logr.predict(X_test)"
   ]
  },
  {
   "cell_type": "code",
   "execution_count": 22,
   "id": "abfc78ed",
   "metadata": {},
   "outputs": [],
   "source": [
    "LogisticRegressionScore = logr.score(X_test, y_test)"
   ]
  },
  {
   "cell_type": "code",
   "execution_count": 23,
   "id": "ca0fb00c",
   "metadata": {},
   "outputs": [
    {
     "data": {
      "text/plain": [
       "array([[42,  4],\n",
       "       [ 4, 10]], dtype=int64)"
      ]
     },
     "execution_count": 23,
     "metadata": {},
     "output_type": "execute_result"
    }
   ],
   "source": [
    "\n",
    "\n",
    "cf = confusion_matrix(y_test, Y_pred)\n",
    "cf"
   ]
  },
  {
   "cell_type": "code",
   "execution_count": 24,
   "id": "763b4c01",
   "metadata": {},
   "outputs": [
    {
     "data": {
      "text/plain": [
       "Text(0.5, 1, 'Confusion Matrix for Logistic Regression')"
      ]
     },
     "execution_count": 24,
     "metadata": {},
     "output_type": "execute_result"
    },
    {
     "data": {
      "image/png": "[encoded data removed]",
      "text/plain": [
       "<Figure size 432x288 with 2 Axes>"
      ]
     },
     "metadata": {
      "needs_background": "light"
     },
     "output_type": "display_data"
    }
   ],
   "source": [
    "sns.heatmap(cf, annot=True, cmap='seismic_r')\n",
    "plt.title(\"Confusion Matrix for Logistic Regression\", fontsize=16, y=1)"
   ]
  },
  {
   "cell_type": "code",
   "execution_count": 25,
   "id": "326508ab",
   "metadata": {},
   "outputs": [
    {
     "name": "stdout",
     "output_type": "stream",
     "text": [
      "              precision    recall  f1-score   support\n",
      "\n",
      "           0       0.91      0.91      0.91        46\n",
      "           1       0.71      0.71      0.71        14\n",
      "\n",
      "    accuracy                           0.87        60\n",
      "   macro avg       0.81      0.81      0.81        60\n",
      "weighted avg       0.87      0.87      0.87        60\n",
      "\n"
     ]
    }
   ],
   "source": [
    "print(classification_report(y_test,Y_pred))"
   ]
  },
  {
   "cell_type": "code",
   "execution_count": 26,
   "id": "0b3d3a18",
   "metadata": {},
   "outputs": [
    {
     "name": "stdout",
     "output_type": "stream",
     "text": [
      "80.3347\n"
     ]
    }
   ],
   "source": [
    "acc_log = round(logr.score(X_train, y_train) * 100,4)\n",
    "print(acc_log)"
   ]
  },
  {
   "cell_type": "markdown",
   "id": "80da09ef",
   "metadata": {},
   "source": [
    "# RANDOM FOREST\n"
   ]
  },
  {
   "cell_type": "code",
   "execution_count": 27,
   "id": "f11ed302",
   "metadata": {},
   "outputs": [
    {
     "data": {
      "text/plain": [
       "RandomForestClassifier()"
      ]
     },
     "execution_count": 27,
     "metadata": {},
     "output_type": "execute_result"
    }
   ],
   "source": [
    "random_forest = RandomForestClassifier(n_estimators=100)\n",
    "random_forest.fit(X_train, y_train)\n",
    "\n"
   ]
  },
  {
   "cell_type": "code",
   "execution_count": 28,
   "id": "e071d199",
   "metadata": {},
   "outputs": [],
   "source": [
    "Y_prediction = random_forest.predict(X_test)\n"
   ]
  },
  {
   "cell_type": "code",
   "execution_count": 29,
   "id": "aeccfd0e",
   "metadata": {},
   "outputs": [
    {
     "data": {
      "text/plain": [
       "1.0"
      ]
     },
     "execution_count": 29,
     "metadata": {},
     "output_type": "execute_result"
    }
   ],
   "source": [
    "random_forest.score(X_train, y_train)"
   ]
  },
  {
   "cell_type": "code",
   "execution_count": 30,
   "id": "ab9f6f7a",
   "metadata": {},
   "outputs": [
    {
     "data": {
      "text/plain": [
       "array([[44,  2],\n",
       "       [ 2, 12]], dtype=int64)"
      ]
     },
     "execution_count": 30,
     "metadata": {},
     "output_type": "execute_result"
    }
   ],
   "source": [
    "cf = confusion_matrix(y_test, Y_prediction)\n",
    "cf"
   ]
  },
  {
   "cell_type": "code",
   "execution_count": 31,
   "id": "c91a35a4",
   "metadata": {},
   "outputs": [
    {
     "data": {
      "text/plain": [
       "Text(0.5, 1, 'Confusion Matrix for Random Forest')"
      ]
     },
     "execution_count": 31,
     "metadata": {},
     "output_type": "execute_result"
    },
    {
     "data": {
      "image/png": "[encoded data removed]",
      "text/plain": [
       "<Figure size 432x288 with 2 Axes>"
      ]
     },
     "metadata": {
      "needs_background": "light"
     },
     "output_type": "display_data"
    }
   ],
   "source": [
    "sns.heatmap(cf, annot=True, cmap='viridis')\n",
    "plt.title(\"Confusion Matrix for Random Forest\", fontsize=16, y=1)"
   ]
  },
  {
   "cell_type": "code",
   "execution_count": 32,
   "id": "ccf831d7",
   "metadata": {},
   "outputs": [
    {
     "name": "stdout",
     "output_type": "stream",
     "text": [
      "              precision    recall  f1-score   support\n",
      "\n",
      "           0       0.96      0.96      0.96        46\n",
      "           1       0.86      0.86      0.86        14\n",
      "\n",
      "    accuracy                           0.93        60\n",
      "   macro avg       0.91      0.91      0.91        60\n",
      "weighted avg       0.93      0.93      0.93        60\n",
      "\n"
     ]
    }
   ],
   "source": [
    "print(classification_report(y_test,Y_prediction))"
   ]
  },
  {
   "cell_type": "code",
   "execution_count": 33,
   "id": "80f21e8c",
   "metadata": {},
   "outputs": [
    {
     "name": "stdout",
     "output_type": "stream",
     "text": [
      "100.0\n"
     ]
    }
   ],
   "source": [
    "acc_forest = round(random_forest.score(X_train, y_train) * 100,4)\n",
    "print(acc_forest)"
   ]
  },
  {
   "cell_type": "markdown",
   "id": "fb534214",
   "metadata": {},
   "source": [
    "# DECISION TREE"
   ]
  },
  {
   "cell_type": "code",
   "execution_count": 34,
   "id": "d9aa613d",
   "metadata": {
    "scrolled": true
   },
   "outputs": [
    {
     "data": {
      "text/plain": [
       "DecisionTreeClassifier()"
      ]
     },
     "execution_count": 34,
     "metadata": {},
     "output_type": "execute_result"
    }
   ],
   "source": [
    "decision_tree = DecisionTreeClassifier()\n",
    "decision_tree.fit(X_train,y_train)"
   ]
  },
  {
   "cell_type": "code",
   "execution_count": 35,
   "id": "fe8081fc",
   "metadata": {},
   "outputs": [],
   "source": [
    "Y_predictions =decision_tree.predict(X_test)\n"
   ]
  },
  {
   "cell_type": "code",
   "execution_count": 36,
   "id": "0916478d",
   "metadata": {},
   "outputs": [
    {
     "data": {
      "text/plain": [
       "1.0"
      ]
     },
     "execution_count": 36,
     "metadata": {},
     "output_type": "execute_result"
    }
   ],
   "source": [
    "decision_tree.score(X_train, y_train)"
   ]
  },
  {
   "cell_type": "code",
   "execution_count": 37,
   "id": "87381b5b",
   "metadata": {},
   "outputs": [
    {
     "data": {
      "text/plain": [
       "array([[41,  5],\n",
       "       [ 5,  9]], dtype=int64)"
      ]
     },
     "execution_count": 37,
     "metadata": {},
     "output_type": "execute_result"
    }
   ],
   "source": [
    "cf = confusion_matrix(y_test, Y_predictions)\n",
    "cf"
   ]
  },
  {
   "cell_type": "code",
   "execution_count": 44,
   "id": "2892bd76",
   "metadata": {},
   "outputs": [
    {
     "data": {
      "text/plain": [
       "Text(0.5, 1, 'Confusion Matrix for Decision tree')"
      ]
     },
     "execution_count": 44,
     "metadata": {},
     "output_type": "execute_result"
    },
    {
     "data": {
      "image/png": "[encoded data removed]",
      "text/plain": [
       "<Figure size 432x288 with 2 Axes>"
      ]
     },
     "metadata": {
      "needs_background": "light"
     },
     "output_type": "display_data"
    }
   ],
   "source": [
    "sns.heatmap(cf, annot=True, cmap=\"tab20b_r\")\n",
    "plt.title(\"Confusion Matrix for Decision tree\", fontsize=16, y=1)"
   ]
  },
  {
   "cell_type": "code",
   "execution_count": 39,
   "id": "205665fa",
   "metadata": {},
   "outputs": [
    {
     "name": "stdout",
     "output_type": "stream",
     "text": [
      "              precision    recall  f1-score   support\n",
      "\n",
      "           0       0.89      0.89      0.89        46\n",
      "           1       0.64      0.64      0.64        14\n",
      "\n",
      "    accuracy                           0.83        60\n",
      "   macro avg       0.77      0.77      0.77        60\n",
      "weighted avg       0.83      0.83      0.83        60\n",
      "\n"
     ]
    }
   ],
   "source": [
    "print(classification_report(y_test,Y_predictions))"
   ]
  },
  {
   "cell_type": "code",
   "execution_count": 40,
   "id": "35696a6f",
   "metadata": {},
   "outputs": [
    {
     "name": "stdout",
     "output_type": "stream",
     "text": [
      "100.0\n"
     ]
    }
   ],
   "source": [
    "acc_decision = round(random_forest.score(X_train, y_train) * 100,4)\n",
    "print(acc_decision)"
   ]
  },
  {
   "cell_type": "markdown",
   "id": "74be2aae",
   "metadata": {},
   "source": [
    "In these three models let us see which one is the best model for this dataset"
   ]
  },
  {
   "cell_type": "code",
   "execution_count": 41,
   "id": "55cb3157",
   "metadata": {},
   "outputs": [
    {
     "data": {
      "text/html": [
       "<div>\n",
       "<style scoped>\n",
       "    .dataframe tbody tr th:only-of-type {\n",
       "        vertical-align: middle;\n",
       "    }\n",
       "\n",
       "    .dataframe tbody tr th {\n",
       "        vertical-align: top;\n",
       "    }\n",
       "\n",
       "    .dataframe thead th {\n",
       "        text-align: right;\n",
       "    }\n",
       "</style>\n",
       "<table border=\"1\" class=\"dataframe\">\n",
       "  <thead>\n",
       "    <tr style=\"text-align: right;\">\n",
       "      <th></th>\n",
       "      <th>Model</th>\n",
       "    </tr>\n",
       "    <tr>\n",
       "      <th>Score</th>\n",
       "      <th></th>\n",
       "    </tr>\n",
       "  </thead>\n",
       "  <tbody>\n",
       "    <tr>\n",
       "      <th>100.0000</th>\n",
       "      <td>Random Forest</td>\n",
       "    </tr>\n",
       "    <tr>\n",
       "      <th>100.0000</th>\n",
       "      <td>Decision Tree</td>\n",
       "    </tr>\n",
       "    <tr>\n",
       "      <th>80.3347</th>\n",
       "      <td>Logistic Regression</td>\n",
       "    </tr>\n",
       "  </tbody>\n",
       "</table>\n",
       "</div>"
      ],
      "text/plain": [
       "                        Model\n",
       "Score                        \n",
       "100.0000        Random Forest\n",
       "100.0000        Decision Tree\n",
       "80.3347   Logistic Regression"
      ]
     },
     "execution_count": 41,
     "metadata": {},
     "output_type": "execute_result"
    }
   ],
   "source": [
    "results = pd.DataFrame({\n",
    "    'Model': ['Logistic Regression', \n",
    "              'Random Forest', \n",
    "              'Decision Tree'],\n",
    "    'Score': [  acc_log, \n",
    "              acc_forest, \n",
    "              acc_decision]})\n",
    "result_df = results.sort_values(by='Score', ascending=False)\n",
    "result_df = result_df.set_index('Score')\n",
    "result_df.head(9)"
   ]
  },
  {
   "cell_type": "markdown",
   "id": "cdc9cbfb",
   "metadata": {},
   "source": [
    "In the above table we observed that Random Forest and Decision Tree are more accurate than LogisticRegression"
   ]
  },
  {
   "cell_type": "markdown",
   "id": "c3ec8f99",
   "metadata": {},
   "source": [
    "# K-FOLD CROSS VALIDATION"
   ]
  },
  {
   "cell_type": "markdown",
   "id": "99b501c3",
   "metadata": {},
   "source": [
    "In the above observations Random Forest and Decision Tree got 100% accuracy"
   ]
  },
  {
   "cell_type": "markdown",
   "id": "b62d6a98",
   "metadata": {},
   "source": [
    "Let validate our Random Forest"
   ]
  },
  {
   "cell_type": "code",
   "execution_count": 42,
   "id": "f4bcb06e",
   "metadata": {},
   "outputs": [
    {
     "name": "stdout",
     "output_type": "stream",
     "text": [
      "Scores: [0.83333333 0.79166667 0.875      0.875      0.875      0.83333333\n",
      " 0.875      0.70833333 0.875      0.7826087 ]\n",
      "Mean: 0.8324275362318841\n",
      "Standard Deviation: 0.05348499869184033\n"
     ]
    }
   ],
   "source": [
    "rf = RandomForestClassifier(n_estimators=100)\n",
    "scores = cross_val_score(rf, X_train, y_train, cv=10, scoring = \"accuracy\")\n",
    "print(\"Scores:\", scores)\n",
    "print(\"Mean:\", scores.mean())\n",
    "print(\"Standard Deviation:\", scores.std())"
   ]
  },
  {
   "cell_type": "markdown",
   "id": "198a7bc0",
   "metadata": {},
   "source": [
    "In our model Random Forest has average accuracy 83% with a standard deviation 5%"
   ]
  },
  {
   "cell_type": "code",
   "execution_count": 43,
   "id": "880f3dfd",
   "metadata": {},
   "outputs": [
    {
     "name": "stdout",
     "output_type": "stream",
     "text": [
      "Scores: [0.79166667 0.79166667 0.75       0.70833333 0.75       0.70833333\n",
      " 0.66666667 0.66666667 0.79166667 0.82608696]\n",
      "Mean: 0.745108695652174\n",
      "Standard Deviation: 0.053027748221996795\n"
     ]
    }
   ],
   "source": [
    "df = DecisionTreeClassifier()\n",
    "scores = cross_val_score(df, X_train,y_train, cv=10, scoring = \"accuracy\")\n",
    "print(\"Scores:\", scores)\n",
    "print(\"Mean:\", scores.mean())\n",
    "print(\"Standard Deviation:\", scores.std())"
   ]
  },
  {
   "cell_type": "markdown",
   "id": "fb785401",
   "metadata": {},
   "source": [
    "In our model Decision Tree  has average accuracy 75% with a standard deviation 6%"
   ]
  },
  {
   "cell_type": "markdown",
   "id": "a43d9773",
   "metadata": {},
   "source": [
    "# CONCLUSION"
   ]
  },
  {
   "cell_type": "markdown",
   "id": "20ff5ed6",
   "metadata": {},
   "source": [
    "We select the dataset about heart failure .Firstly we import all the required libraries and then we perform th data cleaning process by checking the null values after that we tried to visualize our data with some visualization techniques for better undestanding of the dataset after that we create models for predicting the heart failure we create model by using logisticregression ,random forest and decision tree.we got 100% accuracy in random forest and decision tree and logistic regression has 80% accuracy and then we apply cross validation on random forest and decision tree."
   ]
  }
 ],
 "metadata": {
  "kernelspec": {
   "display_name": "Python 3",
   "language": "python",
   "name": "python3"
  },
  "language_info": {
   "codemirror_mode": {
    "name": "ipython",
    "version": 3
   },
   "file_extension": ".py",
   "mimetype": "text/x-python",
   "name": "python",
   "nbconvert_exporter": "python",
   "pygments_lexer": "ipython3",
   "version": "3.8.8"
  }
 },
 "nbformat": 4,
 "nbformat_minor": 5
}
